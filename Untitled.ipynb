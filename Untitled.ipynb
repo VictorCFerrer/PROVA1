{
 "cells": [
  {
   "cell_type": "code",
   "execution_count": 3,
   "id": "19a715e8",
   "metadata": {},
   "outputs": [
    {
     "name": "stdout",
     "output_type": "stream",
     "text": [
      "Bem vindo, vou retornar a média aritmética dos dois maiores numeros que você digitar, digite um numero positivo: -10\n",
      "Certo, agora digite outro numero positivo: 2\n",
      "Maravilha, finalize digitando um ultimo numero: 3\n",
      "Erro!! todos os numeros digitados precisam ser positivos.\n"
     ]
    }
   ],
   "source": [
    "num1 = int(input(\"Bem vindo, vou retornar a média aritmética dos dois maiores numeros que você digitar, digite um numero positivo: \"))\n",
    "num2 = int(input(\"Certo, agora digite outro numero positivo: \"))\n",
    "num3 = int(input(\"Maravilha, finalize digitando um ultimo numero: \"))\n",
    "if num1 <= 0 or num2 <= 0 or num3 <= 0:\n",
    "    print(\"Erro!! todos os numeros digitados precisam ser positivos.\")\n",
    "else:\n",
    "    if num1 >= num2 and num1 >= num3:\n",
    "        maior = num1\n",
    "        if num2 >= num3:\n",
    "            segundo_maior = num2\n",
    "        else:\n",
    "            segundo_maior = num3\n",
    "    elif num2 >= num1 and num2 >= num3:\n",
    "        maior = num2\n",
    "        if num1 >= num3:\n",
    "            segundo_maior = num1\n",
    "        else:\n",
    "            segundo_maior = num3\n",
    "    else:\n",
    "        maior = num3\n",
    "        if num1 >= num2:\n",
    "            segundo_maior = num1\n",
    "        else:\n",
    "            segundo_maior = num2\n",
    "    media_geral = (maior + segundo_maior) / 2\n",
    "    print(\"A média aritmética dos dois maiores números é:\", media_geral)"
   ]
  },
  {
   "cell_type": "code",
   "execution_count": null,
   "id": "f01c97be",
   "metadata": {},
   "outputs": [],
   "source": []
  }
 ],
 "metadata": {
  "kernelspec": {
   "display_name": "Python 3 (ipykernel)",
   "language": "python",
   "name": "python3"
  },
  "language_info": {
   "codemirror_mode": {
    "name": "ipython",
    "version": 3
   },
   "file_extension": ".py",
   "mimetype": "text/x-python",
   "name": "python",
   "nbconvert_exporter": "python",
   "pygments_lexer": "ipython3",
   "version": "3.11.5"
  }
 },
 "nbformat": 4,
 "nbformat_minor": 5
}
